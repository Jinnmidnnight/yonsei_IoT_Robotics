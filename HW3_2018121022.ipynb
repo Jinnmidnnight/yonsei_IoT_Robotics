{
 "cells": [
  {
   "cell_type": "code",
   "execution_count": 55,
   "metadata": {},
   "outputs": [],
   "source": [
    "#2018121022\n",
    "#경제학과\n",
    "#박진효\n",
    "#HW3"
   ]
  },
  {
   "cell_type": "code",
   "execution_count": 56,
   "metadata": {},
   "outputs": [
    {
     "name": "stdout",
     "output_type": "stream",
     "text": [
      "g\n"
     ]
    }
   ],
   "source": [
    "#1번\n",
    "a = ('a', ('s','d'), ('f','g','h'))\n",
    "print(a[2][1])"
   ]
  },
  {
   "cell_type": "code",
   "execution_count": 57,
   "metadata": {},
   "outputs": [
    {
     "data": {
      "text/plain": [
       "[2, 4, 4, 6, 7]"
      ]
     },
     "execution_count": 57,
     "metadata": {},
     "output_type": "execute_result"
    }
   ],
   "source": [
    "#2번\n",
    "a = [4, 6, 2, 7, 4]\n",
    "a.sort()\n",
    "a"
   ]
  },
  {
   "cell_type": "code",
   "execution_count": 58,
   "metadata": {},
   "outputs": [
    {
     "data": {
      "text/plain": [
       "list"
      ]
     },
     "execution_count": 58,
     "metadata": {},
     "output_type": "execute_result"
    }
   ],
   "source": [
    "#3번\n",
    "a = [1, 2, 3]\n",
    "type(a)"
   ]
  },
  {
   "cell_type": "code",
   "execution_count": 59,
   "metadata": {},
   "outputs": [
    {
     "data": {
      "text/plain": [
       "tuple"
      ]
     },
     "execution_count": 59,
     "metadata": {},
     "output_type": "execute_result"
    }
   ],
   "source": [
    "# 3번\n",
    "a = ([1, 2, 3],)\n",
    "type(a)"
   ]
  },
  {
   "cell_type": "code",
   "execution_count": 60,
   "metadata": {},
   "outputs": [
    {
     "name": "stdout",
     "output_type": "stream",
     "text": [
      "['Hi', 'I', 'am', 'a', 'robot']\n"
     ]
    }
   ],
   "source": [
    "#4번\n",
    "my_str = \"Hi-I-am-a-robot\"\n",
    "my_list = my_str.split('-')\n",
    "print(my_list)"
   ]
  },
  {
   "cell_type": "code",
   "execution_count": 61,
   "metadata": {},
   "outputs": [
    {
     "name": "stdout",
     "output_type": "stream",
     "text": [
      "['I', 'want', 'to', 'sleep.']\n",
      "['I', 'want', 'to', 'rest']\n"
     ]
    }
   ],
   "source": [
    "#5번\n",
    "# 문자열 'I want to sleep.' 를\n",
    "# 띄어쓰기를 기준으로 나눠서 리스트로 변환하고,\n",
    "# sleep 을 다른 동사로 바꿔 봅시다.\n",
    "\n",
    "my_str = 'I want to sleep.'\n",
    "my_str_list = my_str.split()\n",
    "print(my_str_list)\n",
    "my_str_list[3] = 'rest'\n",
    "print(my_str_list)"
   ]
  }
 ],
 "metadata": {
  "kernelspec": {
   "display_name": "Python 3.10.6 64-bit",
   "language": "python",
   "name": "python3"
  },
  "language_info": {
   "codemirror_mode": {
    "name": "ipython",
    "version": 3
   },
   "file_extension": ".py",
   "mimetype": "text/x-python",
   "name": "python",
   "nbconvert_exporter": "python",
   "pygments_lexer": "ipython3",
   "version": "3.10.6"
  },
  "orig_nbformat": 4,
  "vscode": {
   "interpreter": {
    "hash": "cabbb4266c7ffa5f943a309883b2f5af3555910f6177da923d43604aab76a06d"
   }
  }
 },
 "nbformat": 4,
 "nbformat_minor": 2
}
