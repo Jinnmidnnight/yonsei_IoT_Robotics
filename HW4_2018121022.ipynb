{
 "cells": [
  {
   "cell_type": "code",
   "execution_count": 35,
   "metadata": {},
   "outputs": [],
   "source": [
    "#2018121022\n",
    "#경제학과\n",
    "#박진효\n",
    "#HW4"
   ]
  },
  {
   "cell_type": "code",
   "execution_count": 36,
   "metadata": {},
   "outputs": [
    {
     "data": {
      "text/plain": [
       "{'철수': 30, '민수': 35, '영희': 25}"
      ]
     },
     "execution_count": 36,
     "metadata": {},
     "output_type": "execute_result"
    }
   ],
   "source": [
    "#1번\n",
    "# Tuple List로부터 dict 생성\n",
    "ages = [('철수', 30), ('민수', 35), ('영희', 25)]\n",
    "mydict = dict(ages)\n",
    "mydict"
   ]
  },
  {
   "cell_type": "code",
   "execution_count": 37,
   "metadata": {},
   "outputs": [
    {
     "name": "stdout",
     "output_type": "stream",
     "text": [
      "a b "
     ]
    }
   ],
   "source": [
    "#2번\n",
    "mydict = {'a': 1, 'b': 2}\n",
    "for i in mydict:\n",
    "    print(i, end = ' ')"
   ]
  },
  {
   "cell_type": "code",
   "execution_count": 38,
   "metadata": {},
   "outputs": [
    {
     "name": "stdout",
     "output_type": "stream",
     "text": [
      "{'떡볶이': 1000, '오뎅': 300}\n"
     ]
    }
   ],
   "source": [
    "#3번\n",
    "menuA = {'떡볶이': 500, '오뎅': 300}\n",
    "menuB = menuA\n",
    "menuA['떡볶이'] = 1000\n",
    "print(menuB)"
   ]
  },
  {
   "cell_type": "code",
   "execution_count": 39,
   "metadata": {},
   "outputs": [
    {
     "name": "stdout",
     "output_type": "stream",
     "text": [
      "철수의 점수 : 90점\n",
      "민수의 점수 : 85점\n",
      "영희의 점수 : 80점\n"
     ]
    }
   ],
   "source": [
    "#4번\n",
    "scores = {'철수': 90, '민수': 85, '영희': 80}\n",
    "for name, score in scores.items():\n",
    "    print(f\"{name}의 점수 : {score}점\")"
   ]
  },
  {
   "cell_type": "code",
   "execution_count": 40,
   "metadata": {},
   "outputs": [
    {
     "data": {
      "text/plain": [
       "[2, 4, 7]"
      ]
     },
     "execution_count": 40,
     "metadata": {},
     "output_type": "execute_result"
    }
   ],
   "source": [
    "#5번\n",
    "d = {4 : 'a', 2 : 'b', 7 : 'c'}\n",
    "sorted(d)"
   ]
  },
  {
   "cell_type": "code",
   "execution_count": 41,
   "metadata": {},
   "outputs": [
    {
     "name": "stdout",
     "output_type": "stream",
     "text": [
      "4\n"
     ]
    }
   ],
   "source": [
    "#1번\n",
    "s = set('Hello')\n",
    "print(len(s))"
   ]
  },
  {
   "cell_type": "code",
   "execution_count": 42,
   "metadata": {},
   "outputs": [
    {
     "data": {
      "text/plain": [
       "dict"
      ]
     },
     "execution_count": 42,
     "metadata": {},
     "output_type": "execute_result"
    }
   ],
   "source": [
    "#2번\n",
    "s = {}\n",
    "type(s)"
   ]
  },
  {
   "cell_type": "code",
   "execution_count": 43,
   "metadata": {},
   "outputs": [
    {
     "data": {
      "text/plain": [
       "{1, 2, 5, 6, 7, 8}"
      ]
     },
     "execution_count": 43,
     "metadata": {},
     "output_type": "execute_result"
    }
   ],
   "source": [
    "#3번\n",
    "{1, 5, 2, 6} | {6, 2, 7, 8}"
   ]
  },
  {
   "cell_type": "code",
   "execution_count": 44,
   "metadata": {},
   "outputs": [
    {
     "name": "stdout",
     "output_type": "stream",
     "text": [
      "{2, 6}\n"
     ]
    }
   ],
   "source": [
    "#4번\n",
    "set1 = {1, 2, 3, 6, 8}\n",
    "set2 = {2, 3, 4, 9, 6}\n",
    "set3 = {1, 2, 5, 4, 6}\n",
    "print(set1 & set2 & set3)"
   ]
  },
  {
   "cell_type": "code",
   "execution_count": 45,
   "metadata": {},
   "outputs": [
    {
     "name": "stdout",
     "output_type": "stream",
     "text": [
      "{9, 3}\n"
     ]
    }
   ],
   "source": [
    "#5번\n",
    "setA = {1, 2, 4, 7}\n",
    "setB = {2, 3, 7, 9}\n",
    "print(setB - setA)"
   ]
  },
  {
   "cell_type": "code",
   "execution_count": 46,
   "metadata": {},
   "outputs": [
    {
     "name": "stdout",
     "output_type": "stream",
     "text": [
      "{'재훈', '혜미'}\n"
     ]
    }
   ],
   "source": [
    "#6번\n",
    "# 다음은 A시험을 통과한 학생들과 B시험을 통과한 학생들의 명단이다.\n",
    "# 둘 다 통과한 사람들을 출력해보자.\n",
    "passA = {'민영', '동윤', '혜미', '소정', '재훈'}\n",
    "passB = {'재훈', '지수', '민기', '혜미'}\n",
    "print(passA & passB)"
   ]
  }
 ],
 "metadata": {
  "kernelspec": {
   "display_name": "Python 3.10.6 64-bit",
   "language": "python",
   "name": "python3"
  },
  "language_info": {
   "codemirror_mode": {
    "name": "ipython",
    "version": 3
   },
   "file_extension": ".py",
   "mimetype": "text/x-python",
   "name": "python",
   "nbconvert_exporter": "python",
   "pygments_lexer": "ipython3",
   "version": "3.10.6"
  },
  "orig_nbformat": 4,
  "vscode": {
   "interpreter": {
    "hash": "cabbb4266c7ffa5f943a309883b2f5af3555910f6177da923d43604aab76a06d"
   }
  }
 },
 "nbformat": 4,
 "nbformat_minor": 2
}
