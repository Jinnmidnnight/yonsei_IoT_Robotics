{
 "cells": [
  {
   "cell_type": "code",
   "execution_count": 1,
   "metadata": {},
   "outputs": [],
   "source": [
    "#2018121022\n",
    "#경제학과\n",
    "#박진효\n",
    "#HW1"
   ]
  },
  {
   "cell_type": "code",
   "execution_count": 2,
   "metadata": {},
   "outputs": [
    {
     "data": {
      "text/plain": [
       "300000000.0"
      ]
     },
     "execution_count": 2,
     "metadata": {},
     "output_type": "execute_result"
    }
   ],
   "source": [
    "#1번\n",
    "3e+8"
   ]
  },
  {
   "cell_type": "code",
   "execution_count": 3,
   "metadata": {},
   "outputs": [
    {
     "data": {
      "text/plain": [
       "True"
      ]
     },
     "execution_count": 3,
     "metadata": {},
     "output_type": "execute_result"
    }
   ],
   "source": [
    "#2번\n",
    "bool('None')"
   ]
  },
  {
   "cell_type": "code",
   "execution_count": 4,
   "metadata": {},
   "outputs": [
    {
     "data": {
      "text/plain": [
       "2"
      ]
     },
     "execution_count": 4,
     "metadata": {},
     "output_type": "execute_result"
    }
   ],
   "source": [
    "#3번\n",
    "int(2.6)"
   ]
  },
  {
   "cell_type": "code",
   "execution_count": 5,
   "metadata": {},
   "outputs": [
    {
     "name": "stdout",
     "output_type": "stream",
     "text": [
      "False\n",
      "홀수면 1 짝수면 0를 출력합니다\n"
     ]
    }
   ],
   "source": [
    "#4번\n",
    "# 자연수 20이 짝수인지 홀수인지 알아봅시다\n",
    "judge = bool(20 % 2)\n",
    "print(judge)\n",
    "print(\"홀수면 1 짝수면 0를 출력합니다\")"
   ]
  },
  {
   "cell_type": "code",
   "execution_count": 6,
   "metadata": {},
   "outputs": [
    {
     "name": "stdout",
     "output_type": "stream",
     "text": [
      "9를 4로 나눈 몫은 2, 나머지는 1입니다.\n"
     ]
    }
   ],
   "source": [
    "#5번\n",
    "# 9를 4로 나눈 몫과 나머지 구해보기\n",
    "mok = 9 // 4\n",
    "namuzi = 9 % 4\n",
    "print(f\"9를 4로 나눈 몫은 {mok}, 나머지는 {namuzi}입니다.\")"
   ]
  }
 ],
 "metadata": {
  "kernelspec": {
   "display_name": "Python 3.10.6 64-bit",
   "language": "python",
   "name": "python3"
  },
  "language_info": {
   "codemirror_mode": {
    "name": "ipython",
    "version": 3
   },
   "file_extension": ".py",
   "mimetype": "text/x-python",
   "name": "python",
   "nbconvert_exporter": "python",
   "pygments_lexer": "ipython3",
   "version": "3.10.6"
  },
  "orig_nbformat": 4,
  "vscode": {
   "interpreter": {
    "hash": "cabbb4266c7ffa5f943a309883b2f5af3555910f6177da923d43604aab76a06d"
   }
  }
 },
 "nbformat": 4,
 "nbformat_minor": 2
}
