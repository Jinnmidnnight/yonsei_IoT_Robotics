{
 "cells": [
  {
   "cell_type": "code",
   "execution_count": 1,
   "metadata": {},
   "outputs": [],
   "source": [
    "#2018121022\n",
    "#경제학과\n",
    "#박진효\n",
    "#HW2"
   ]
  },
  {
   "cell_type": "code",
   "execution_count": 2,
   "metadata": {},
   "outputs": [
    {
     "name": "stdout",
     "output_type": "stream",
     "text": [
      "1010\n"
     ]
    }
   ],
   "source": [
    "#1번\n",
    "print('10' + '10')"
   ]
  },
  {
   "cell_type": "code",
   "execution_count": 3,
   "metadata": {},
   "outputs": [
    {
     "data": {
      "text/plain": [
       "6"
      ]
     },
     "execution_count": 3,
     "metadata": {},
     "output_type": "execute_result"
    }
   ],
   "source": [
    "#2번\n",
    "len(\"012345\")"
   ]
  },
  {
   "cell_type": "code",
   "execution_count": 4,
   "metadata": {},
   "outputs": [
    {
     "data": {
      "text/plain": [
       "['ab', 'cde', 'fg']"
      ]
     },
     "execution_count": 4,
     "metadata": {},
     "output_type": "execute_result"
    }
   ],
   "source": [
    "#3번\n",
    "'ab-cde-fg'.split('-')"
   ]
  },
  {
   "cell_type": "code",
   "execution_count": 5,
   "metadata": {},
   "outputs": [
    {
     "name": "stdout",
     "output_type": "stream",
     "text": [
      "HELLO\n"
     ]
    }
   ],
   "source": [
    "#4번\n",
    "# 인덱스를 이용해서 'HELLO'를 출력해봅시다\n",
    "my_str = \"HDKHELLOKBLRBMM\"\n",
    "print(my_str[3:8])"
   ]
  },
  {
   "cell_type": "code",
   "execution_count": 6,
   "metadata": {},
   "outputs": [
    {
     "name": "stdout",
     "output_type": "stream",
     "text": [
      "제 이름은 귀요미이고 나이는 23살, 서울에서 왔습니다.\n"
     ]
    }
   ],
   "source": [
    "#5번\n",
    "# 인적 사항을 변수로 선언하고 f-string을 이용해 출력해 봅시다\n",
    "# 변수 선언\n",
    "name = '귀요미'\n",
    "age = 23\n",
    "hometown = '서울'\n",
    "#출력\n",
    "print(f\"제 이름은 {name}이고 나이는 {age}살, {hometown}에서 왔습니다.\")"
   ]
  },
  {
   "cell_type": "code",
   "execution_count": null,
   "metadata": {},
   "outputs": [],
   "source": []
  }
 ],
 "metadata": {
  "kernelspec": {
   "display_name": "Python 3.8.10 64-bit",
   "language": "python",
   "name": "python3"
  },
  "language_info": {
   "codemirror_mode": {
    "name": "ipython",
    "version": 3
   },
   "file_extension": ".py",
   "mimetype": "text/x-python",
   "name": "python",
   "nbconvert_exporter": "python",
   "pygments_lexer": "ipython3",
   "version": "3.8.10"
  },
  "orig_nbformat": 4,
  "vscode": {
   "interpreter": {
    "hash": "0c65829e76407c31dbb35108d428e700f121d86b810f90ee1769948020f1f5af"
   }
  }
 },
 "nbformat": 4,
 "nbformat_minor": 2
}
